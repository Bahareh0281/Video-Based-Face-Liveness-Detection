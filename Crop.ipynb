{
 "cells": [
  {
   "cell_type": "code",
   "execution_count": null,
   "metadata": {},
   "outputs": [],
   "source": [
    "!pip install mtcnn --q"
   ]
  },
  {
   "cell_type": "code",
   "execution_count": null,
   "metadata": {},
   "outputs": [],
   "source": [
    "from mtcnn import MTCNN"
   ]
  },
  {
   "cell_type": "code",
   "execution_count": null,
   "metadata": {},
   "outputs": [],
   "source": [
    "test_images_dir = '/content/extracted_frames/test'"
   ]
  },
  {
   "cell_type": "code",
   "execution_count": null,
   "metadata": {},
   "outputs": [],
   "source": [
    "def load_image_paths(directory):\n",
    "    image_paths = []\n",
    "    for filename in os.listdir(directory):\n",
    "        if filename.endswith(\".jpg\") or filename.endswith(\".png\"):\n",
    "            image_paths.append(os.path.join(directory, filename))\n",
    "    return image_paths"
   ]
  },
  {
   "cell_type": "code",
   "execution_count": null,
   "metadata": {},
   "outputs": [],
   "source": [
    "def detect_and_crop_faces(image_path, detector):\n",
    "    image = Image.open(image_path)\n",
    "    image_np = np.asarray(image)\n",
    "    result = detector.detect_faces(image_np)\n",
    "    if result:\n",
    "        for person in result:\n",
    "            bounding_box = person['box']\n",
    "            keypoints = person['keypoints']\n",
    "\n",
    "            # Crop the detected face\n",
    "            x, y, width, height = bounding_box\n",
    "            cropped_face = image_np[y:y+height, x:x+width]\n",
    "\n",
    "            # Convert the cropped face back to an image\n",
    "            cropped_face_image = Image.fromarray(cropped_face)\n",
    "\n",
    "            return cropped_face_image\n",
    "    return None"
   ]
  },
  {
   "cell_type": "code",
   "execution_count": null,
   "metadata": {},
   "outputs": [],
   "source": [
    "# Initialize the MTCNN face detector\n",
    "detector = MTCNN()"
   ]
  },
  {
   "cell_type": "code",
   "execution_count": null,
   "metadata": {},
   "outputs": [],
   "source": [
    "# Directory containing the original images\n",
    "test_image_paths = load_image_paths(test_images_dir)\n",
    "\n",
    "# Directory to save cropped face images\n",
    "output_dir = '/content/cropped_faces/'\n",
    "if not os.path.exists(output_dir):\n",
    "    os.makedirs(output_dir)\n",
    "\n",
    "# Process each image and save the cropped face with the original filename\n",
    "for image_path in test_image_paths:\n",
    "    cropped_face = detect_and_crop_faces(image_path, detector)\n",
    "    # print(\"Image path is:\", test_image_paths)\n",
    "    if cropped_face:\n",
    "        # Extract the original filename\n",
    "        original_filename = os.path.basename(image_path)\n",
    "        # Save the cropped face image with the original filename\n",
    "        cropped_face.save(os.path.join(output_dir, original_filename))"
   ]
  },
  {
   "cell_type": "code",
   "execution_count": null,
   "metadata": {},
   "outputs": [],
   "source": [
    "# Function to resize images in a directory\n",
    "def resize_images(directory, target_size=(224, 224)):\n",
    "    resized_images = []\n",
    "    test_image_paths = []\n",
    "    test_image_labels = []\n",
    "\n",
    "    # Iterate over each image in the directory\n",
    "    for filename in os.listdir(directory):\n",
    "        if filename.endswith(\".jpg\") or filename.endswith(\".png\"):\n",
    "            label = filename.split('.')[0].split('_')[0]\n",
    "            image_path = os.path.join(directory, filename)\n",
    "            image = cv2.imread(image_path)\n",
    "            resized_image = cv2.resize(image, target_size)\n",
    "\n",
    "            # Append resized image, image path, and label\n",
    "            resized_images.append(resized_image)\n",
    "            test_image_paths.append(image_path)\n",
    "            test_image_labels.append(int(label))  # Convert label to int\n",
    "\n",
    "    # Convert lists to numpy arrays\n",
    "    resized_images = np.array(resized_images)\n",
    "    test_image_labels = np.array(test_image_labels)\n",
    "\n",
    "    return resized_images, test_image_paths, test_image_labels"
   ]
  },
  {
   "cell_type": "code",
   "execution_count": null,
   "metadata": {},
   "outputs": [],
   "source": [
    "# Resize images in test directory\n",
    "cropped_resized_images, cropped_test_image_paths, cropped_test_image_labels = resize_images(output_dir)\n",
    "\n",
    "# Check the shape of resized images\n",
    "print(\"Resized images shape:\", cropped_resized_images.shape)"
   ]
  },
  {
   "cell_type": "code",
   "execution_count": null,
   "metadata": {},
   "outputs": [],
   "source": [
    "# Convert labels to one-hot encoding\n",
    "cropped_test_image_labels_onehot = to_categorical(cropped_test_image_labels, num_classes=2)"
   ]
  },
  {
   "cell_type": "code",
   "execution_count": null,
   "metadata": {},
   "outputs": [],
   "source": [
    "# Evaluate the model\n",
    "cropped_test_loss, cropped_test_accuracy = model.evaluate(cropped_resized_images, cropped_test_image_labels_onehot)"
   ]
  },
  {
   "cell_type": "code",
   "execution_count": null,
   "metadata": {},
   "outputs": [],
   "source": [
    "# Predictions\n",
    "cropped_predictions = model.predict(cropped_resized_images)\n",
    "cropped_predicted_scores = cropped_predictions[:, 1]  # Assuming class 1 corresponds to index 1 in predictions\n",
    "\n",
    "# Normalize scores between 0 and 1\n",
    "cropped_predicted_scores_normalized = (cropped_predicted_scores - np.min(cropped_predicted_scores)) / (np.max(cropped_predicted_scores) - np.min(cropped_predicted_scores))"
   ]
  },
  {
   "cell_type": "code",
   "execution_count": null,
   "metadata": {},
   "outputs": [],
   "source": [
    "# Save predictions to a CSV file\n",
    "output_file = 'predictions.csv'\n",
    "with open(output_file, 'w', newline='') as f:\n",
    "    writer = csv.writer(f)\n",
    "    writer.writerow(['filename', 'liveness_score', 'liveness_score_crop'])  # Header\n",
    "    for i, filename in enumerate(test_image_paths):\n",
    "        writer.writerow([filename, predicted_scores_normalized[i], cropped_predicted_scores_normalized[i]])\n",
    "\n",
    "print(f\"Predictions saved to {output_file}\")"
   ]
  }
 ],
 "metadata": {
  "language_info": {
   "name": "python"
  }
 },
 "nbformat": 4,
 "nbformat_minor": 2
}
