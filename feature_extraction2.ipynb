{
  "nbformat": 4,
  "nbformat_minor": 0,
  "metadata": {
    "colab": {
      "provenance": [],
      "gpuType": "T4"
    },
    "kernelspec": {
      "name": "python3",
      "display_name": "Python 3"
    },
    "language_info": {
      "name": "python"
    },
    "accelerator": "GPU",
    "widgets": {
      "application/vnd.jupyter.widget-state+json": {
        "8f1af9ee62e44cc6af904d12480a42f2": {
          "model_module": "@jupyter-widgets/controls",
          "model_name": "HBoxModel",
          "model_module_version": "1.5.0",
          "state": {
            "_dom_classes": [],
            "_model_module": "@jupyter-widgets/controls",
            "_model_module_version": "1.5.0",
            "_model_name": "HBoxModel",
            "_view_count": null,
            "_view_module": "@jupyter-widgets/controls",
            "_view_module_version": "1.5.0",
            "_view_name": "HBoxView",
            "box_style": "",
            "children": [
              "IPY_MODEL_52b9e1612eb649338c7177d5226e1c23",
              "IPY_MODEL_8314fa1c999d4d28887283cedf16c36e",
              "IPY_MODEL_e98e8dd06ef7428289d45e492030e2ab"
            ],
            "layout": "IPY_MODEL_cca39e102af14e6db258933759a53e71"
          }
        },
        "52b9e1612eb649338c7177d5226e1c23": {
          "model_module": "@jupyter-widgets/controls",
          "model_name": "HTMLModel",
          "model_module_version": "1.5.0",
          "state": {
            "_dom_classes": [],
            "_model_module": "@jupyter-widgets/controls",
            "_model_module_version": "1.5.0",
            "_model_name": "HTMLModel",
            "_view_count": null,
            "_view_module": "@jupyter-widgets/controls",
            "_view_module_version": "1.5.0",
            "_view_name": "HTMLView",
            "description": "",
            "description_tooltip": null,
            "layout": "IPY_MODEL_b8981626bf4041c88f19ae3d1a98efd7",
            "placeholder": "​",
            "style": "IPY_MODEL_864539a61efe4015b4b2eca64ff242c1",
            "value": "Downloading data: 100%"
          }
        },
        "8314fa1c999d4d28887283cedf16c36e": {
          "model_module": "@jupyter-widgets/controls",
          "model_name": "FloatProgressModel",
          "model_module_version": "1.5.0",
          "state": {
            "_dom_classes": [],
            "_model_module": "@jupyter-widgets/controls",
            "_model_module_version": "1.5.0",
            "_model_name": "FloatProgressModel",
            "_view_count": null,
            "_view_module": "@jupyter-widgets/controls",
            "_view_module_version": "1.5.0",
            "_view_name": "ProgressView",
            "bar_style": "success",
            "description": "",
            "description_tooltip": null,
            "layout": "IPY_MODEL_930256fb35b84a2fbae859d11ee4dce1",
            "max": 136678272,
            "min": 0,
            "orientation": "horizontal",
            "style": "IPY_MODEL_6718113939f84d698e21ad85cc59891b",
            "value": 136678272
          }
        },
        "e98e8dd06ef7428289d45e492030e2ab": {
          "model_module": "@jupyter-widgets/controls",
          "model_name": "HTMLModel",
          "model_module_version": "1.5.0",
          "state": {
            "_dom_classes": [],
            "_model_module": "@jupyter-widgets/controls",
            "_model_module_version": "1.5.0",
            "_model_name": "HTMLModel",
            "_view_count": null,
            "_view_module": "@jupyter-widgets/controls",
            "_view_module_version": "1.5.0",
            "_view_name": "HTMLView",
            "description": "",
            "description_tooltip": null,
            "layout": "IPY_MODEL_67ff568b8a7648fbab54688f7f34ad7d",
            "placeholder": "​",
            "style": "IPY_MODEL_af79e8931e544a82a2e12ebd215f7e77",
            "value": " 137M/137M [00:01&lt;00:00, 157MB/s]"
          }
        },
        "cca39e102af14e6db258933759a53e71": {
          "model_module": "@jupyter-widgets/base",
          "model_name": "LayoutModel",
          "model_module_version": "1.2.0",
          "state": {
            "_model_module": "@jupyter-widgets/base",
            "_model_module_version": "1.2.0",
            "_model_name": "LayoutModel",
            "_view_count": null,
            "_view_module": "@jupyter-widgets/base",
            "_view_module_version": "1.2.0",
            "_view_name": "LayoutView",
            "align_content": null,
            "align_items": null,
            "align_self": null,
            "border": null,
            "bottom": null,
            "display": null,
            "flex": null,
            "flex_flow": null,
            "grid_area": null,
            "grid_auto_columns": null,
            "grid_auto_flow": null,
            "grid_auto_rows": null,
            "grid_column": null,
            "grid_gap": null,
            "grid_row": null,
            "grid_template_areas": null,
            "grid_template_columns": null,
            "grid_template_rows": null,
            "height": null,
            "justify_content": null,
            "justify_items": null,
            "left": null,
            "margin": null,
            "max_height": null,
            "max_width": null,
            "min_height": null,
            "min_width": null,
            "object_fit": null,
            "object_position": null,
            "order": null,
            "overflow": null,
            "overflow_x": null,
            "overflow_y": null,
            "padding": null,
            "right": null,
            "top": null,
            "visibility": null,
            "width": null
          }
        },
        "b8981626bf4041c88f19ae3d1a98efd7": {
          "model_module": "@jupyter-widgets/base",
          "model_name": "LayoutModel",
          "model_module_version": "1.2.0",
          "state": {
            "_model_module": "@jupyter-widgets/base",
            "_model_module_version": "1.2.0",
            "_model_name": "LayoutModel",
            "_view_count": null,
            "_view_module": "@jupyter-widgets/base",
            "_view_module_version": "1.2.0",
            "_view_name": "LayoutView",
            "align_content": null,
            "align_items": null,
            "align_self": null,
            "border": null,
            "bottom": null,
            "display": null,
            "flex": null,
            "flex_flow": null,
            "grid_area": null,
            "grid_auto_columns": null,
            "grid_auto_flow": null,
            "grid_auto_rows": null,
            "grid_column": null,
            "grid_gap": null,
            "grid_row": null,
            "grid_template_areas": null,
            "grid_template_columns": null,
            "grid_template_rows": null,
            "height": null,
            "justify_content": null,
            "justify_items": null,
            "left": null,
            "margin": null,
            "max_height": null,
            "max_width": null,
            "min_height": null,
            "min_width": null,
            "object_fit": null,
            "object_position": null,
            "order": null,
            "overflow": null,
            "overflow_x": null,
            "overflow_y": null,
            "padding": null,
            "right": null,
            "top": null,
            "visibility": null,
            "width": null
          }
        },
        "864539a61efe4015b4b2eca64ff242c1": {
          "model_module": "@jupyter-widgets/controls",
          "model_name": "DescriptionStyleModel",
          "model_module_version": "1.5.0",
          "state": {
            "_model_module": "@jupyter-widgets/controls",
            "_model_module_version": "1.5.0",
            "_model_name": "DescriptionStyleModel",
            "_view_count": null,
            "_view_module": "@jupyter-widgets/base",
            "_view_module_version": "1.2.0",
            "_view_name": "StyleView",
            "description_width": ""
          }
        },
        "930256fb35b84a2fbae859d11ee4dce1": {
          "model_module": "@jupyter-widgets/base",
          "model_name": "LayoutModel",
          "model_module_version": "1.2.0",
          "state": {
            "_model_module": "@jupyter-widgets/base",
            "_model_module_version": "1.2.0",
            "_model_name": "LayoutModel",
            "_view_count": null,
            "_view_module": "@jupyter-widgets/base",
            "_view_module_version": "1.2.0",
            "_view_name": "LayoutView",
            "align_content": null,
            "align_items": null,
            "align_self": null,
            "border": null,
            "bottom": null,
            "display": null,
            "flex": null,
            "flex_flow": null,
            "grid_area": null,
            "grid_auto_columns": null,
            "grid_auto_flow": null,
            "grid_auto_rows": null,
            "grid_column": null,
            "grid_gap": null,
            "grid_row": null,
            "grid_template_areas": null,
            "grid_template_columns": null,
            "grid_template_rows": null,
            "height": null,
            "justify_content": null,
            "justify_items": null,
            "left": null,
            "margin": null,
            "max_height": null,
            "max_width": null,
            "min_height": null,
            "min_width": null,
            "object_fit": null,
            "object_position": null,
            "order": null,
            "overflow": null,
            "overflow_x": null,
            "overflow_y": null,
            "padding": null,
            "right": null,
            "top": null,
            "visibility": null,
            "width": null
          }
        },
        "6718113939f84d698e21ad85cc59891b": {
          "model_module": "@jupyter-widgets/controls",
          "model_name": "ProgressStyleModel",
          "model_module_version": "1.5.0",
          "state": {
            "_model_module": "@jupyter-widgets/controls",
            "_model_module_version": "1.5.0",
            "_model_name": "ProgressStyleModel",
            "_view_count": null,
            "_view_module": "@jupyter-widgets/base",
            "_view_module_version": "1.2.0",
            "_view_name": "StyleView",
            "bar_color": null,
            "description_width": ""
          }
        },
        "67ff568b8a7648fbab54688f7f34ad7d": {
          "model_module": "@jupyter-widgets/base",
          "model_name": "LayoutModel",
          "model_module_version": "1.2.0",
          "state": {
            "_model_module": "@jupyter-widgets/base",
            "_model_module_version": "1.2.0",
            "_model_name": "LayoutModel",
            "_view_count": null,
            "_view_module": "@jupyter-widgets/base",
            "_view_module_version": "1.2.0",
            "_view_name": "LayoutView",
            "align_content": null,
            "align_items": null,
            "align_self": null,
            "border": null,
            "bottom": null,
            "display": null,
            "flex": null,
            "flex_flow": null,
            "grid_area": null,
            "grid_auto_columns": null,
            "grid_auto_flow": null,
            "grid_auto_rows": null,
            "grid_column": null,
            "grid_gap": null,
            "grid_row": null,
            "grid_template_areas": null,
            "grid_template_columns": null,
            "grid_template_rows": null,
            "height": null,
            "justify_content": null,
            "justify_items": null,
            "left": null,
            "margin": null,
            "max_height": null,
            "max_width": null,
            "min_height": null,
            "min_width": null,
            "object_fit": null,
            "object_position": null,
            "order": null,
            "overflow": null,
            "overflow_x": null,
            "overflow_y": null,
            "padding": null,
            "right": null,
            "top": null,
            "visibility": null,
            "width": null
          }
        },
        "af79e8931e544a82a2e12ebd215f7e77": {
          "model_module": "@jupyter-widgets/controls",
          "model_name": "DescriptionStyleModel",
          "model_module_version": "1.5.0",
          "state": {
            "_model_module": "@jupyter-widgets/controls",
            "_model_module_version": "1.5.0",
            "_model_name": "DescriptionStyleModel",
            "_view_count": null,
            "_view_module": "@jupyter-widgets/base",
            "_view_module_version": "1.2.0",
            "_view_name": "StyleView",
            "description_width": ""
          }
        },
        "209f6b0782474092b92494ec70876b1d": {
          "model_module": "@jupyter-widgets/controls",
          "model_name": "HBoxModel",
          "model_module_version": "1.5.0",
          "state": {
            "_dom_classes": [],
            "_model_module": "@jupyter-widgets/controls",
            "_model_module_version": "1.5.0",
            "_model_name": "HBoxModel",
            "_view_count": null,
            "_view_module": "@jupyter-widgets/controls",
            "_view_module_version": "1.5.0",
            "_view_name": "HBoxView",
            "box_style": "",
            "children": [
              "IPY_MODEL_0f1d55199a36459ebff417854022a528",
              "IPY_MODEL_346a3f77435b4faa844d72a768f48e6e",
              "IPY_MODEL_38496baea3f84c109470a365551d5109"
            ],
            "layout": "IPY_MODEL_f01adbc7686146ee9915f8f9ef7b6910"
          }
        },
        "0f1d55199a36459ebff417854022a528": {
          "model_module": "@jupyter-widgets/controls",
          "model_name": "HTMLModel",
          "model_module_version": "1.5.0",
          "state": {
            "_dom_classes": [],
            "_model_module": "@jupyter-widgets/controls",
            "_model_module_version": "1.5.0",
            "_model_name": "HTMLModel",
            "_view_count": null,
            "_view_module": "@jupyter-widgets/controls",
            "_view_module_version": "1.5.0",
            "_view_name": "HTMLView",
            "description": "",
            "description_tooltip": null,
            "layout": "IPY_MODEL_628e6fc31b7e4f5b97fa9a8bcc85a870",
            "placeholder": "​",
            "style": "IPY_MODEL_3f0de2688700409aaeb42ad966c68e62",
            "value": "Generating train split: 100%"
          }
        },
        "346a3f77435b4faa844d72a768f48e6e": {
          "model_module": "@jupyter-widgets/controls",
          "model_name": "FloatProgressModel",
          "model_module_version": "1.5.0",
          "state": {
            "_dom_classes": [],
            "_model_module": "@jupyter-widgets/controls",
            "_model_module_version": "1.5.0",
            "_model_name": "FloatProgressModel",
            "_view_count": null,
            "_view_module": "@jupyter-widgets/controls",
            "_view_module_version": "1.5.0",
            "_view_name": "ProgressView",
            "bar_style": "success",
            "description": "",
            "description_tooltip": null,
            "layout": "IPY_MODEL_6f6551d5918f4654b0a55e42559fdffe",
            "max": 6427,
            "min": 0,
            "orientation": "horizontal",
            "style": "IPY_MODEL_c0b0f1a2242640bb8df3eb90cd74fc77",
            "value": 6427
          }
        },
        "38496baea3f84c109470a365551d5109": {
          "model_module": "@jupyter-widgets/controls",
          "model_name": "HTMLModel",
          "model_module_version": "1.5.0",
          "state": {
            "_dom_classes": [],
            "_model_module": "@jupyter-widgets/controls",
            "_model_module_version": "1.5.0",
            "_model_name": "HTMLModel",
            "_view_count": null,
            "_view_module": "@jupyter-widgets/controls",
            "_view_module_version": "1.5.0",
            "_view_name": "HTMLView",
            "description": "",
            "description_tooltip": null,
            "layout": "IPY_MODEL_076058cc18e1408784c04aec89b9bdd7",
            "placeholder": "​",
            "style": "IPY_MODEL_ad5e87fcdabb41cb99eb3ce7cfab64a9",
            "value": " 6427/6427 [00:01&lt;00:00, 7598.53 examples/s]"
          }
        },
        "f01adbc7686146ee9915f8f9ef7b6910": {
          "model_module": "@jupyter-widgets/base",
          "model_name": "LayoutModel",
          "model_module_version": "1.2.0",
          "state": {
            "_model_module": "@jupyter-widgets/base",
            "_model_module_version": "1.2.0",
            "_model_name": "LayoutModel",
            "_view_count": null,
            "_view_module": "@jupyter-widgets/base",
            "_view_module_version": "1.2.0",
            "_view_name": "LayoutView",
            "align_content": null,
            "align_items": null,
            "align_self": null,
            "border": null,
            "bottom": null,
            "display": null,
            "flex": null,
            "flex_flow": null,
            "grid_area": null,
            "grid_auto_columns": null,
            "grid_auto_flow": null,
            "grid_auto_rows": null,
            "grid_column": null,
            "grid_gap": null,
            "grid_row": null,
            "grid_template_areas": null,
            "grid_template_columns": null,
            "grid_template_rows": null,
            "height": null,
            "justify_content": null,
            "justify_items": null,
            "left": null,
            "margin": null,
            "max_height": null,
            "max_width": null,
            "min_height": null,
            "min_width": null,
            "object_fit": null,
            "object_position": null,
            "order": null,
            "overflow": null,
            "overflow_x": null,
            "overflow_y": null,
            "padding": null,
            "right": null,
            "top": null,
            "visibility": null,
            "width": null
          }
        },
        "628e6fc31b7e4f5b97fa9a8bcc85a870": {
          "model_module": "@jupyter-widgets/base",
          "model_name": "LayoutModel",
          "model_module_version": "1.2.0",
          "state": {
            "_model_module": "@jupyter-widgets/base",
            "_model_module_version": "1.2.0",
            "_model_name": "LayoutModel",
            "_view_count": null,
            "_view_module": "@jupyter-widgets/base",
            "_view_module_version": "1.2.0",
            "_view_name": "LayoutView",
            "align_content": null,
            "align_items": null,
            "align_self": null,
            "border": null,
            "bottom": null,
            "display": null,
            "flex": null,
            "flex_flow": null,
            "grid_area": null,
            "grid_auto_columns": null,
            "grid_auto_flow": null,
            "grid_auto_rows": null,
            "grid_column": null,
            "grid_gap": null,
            "grid_row": null,
            "grid_template_areas": null,
            "grid_template_columns": null,
            "grid_template_rows": null,
            "height": null,
            "justify_content": null,
            "justify_items": null,
            "left": null,
            "margin": null,
            "max_height": null,
            "max_width": null,
            "min_height": null,
            "min_width": null,
            "object_fit": null,
            "object_position": null,
            "order": null,
            "overflow": null,
            "overflow_x": null,
            "overflow_y": null,
            "padding": null,
            "right": null,
            "top": null,
            "visibility": null,
            "width": null
          }
        },
        "3f0de2688700409aaeb42ad966c68e62": {
          "model_module": "@jupyter-widgets/controls",
          "model_name": "DescriptionStyleModel",
          "model_module_version": "1.5.0",
          "state": {
            "_model_module": "@jupyter-widgets/controls",
            "_model_module_version": "1.5.0",
            "_model_name": "DescriptionStyleModel",
            "_view_count": null,
            "_view_module": "@jupyter-widgets/base",
            "_view_module_version": "1.2.0",
            "_view_name": "StyleView",
            "description_width": ""
          }
        },
        "6f6551d5918f4654b0a55e42559fdffe": {
          "model_module": "@jupyter-widgets/base",
          "model_name": "LayoutModel",
          "model_module_version": "1.2.0",
          "state": {
            "_model_module": "@jupyter-widgets/base",
            "_model_module_version": "1.2.0",
            "_model_name": "LayoutModel",
            "_view_count": null,
            "_view_module": "@jupyter-widgets/base",
            "_view_module_version": "1.2.0",
            "_view_name": "LayoutView",
            "align_content": null,
            "align_items": null,
            "align_self": null,
            "border": null,
            "bottom": null,
            "display": null,
            "flex": null,
            "flex_flow": null,
            "grid_area": null,
            "grid_auto_columns": null,
            "grid_auto_flow": null,
            "grid_auto_rows": null,
            "grid_column": null,
            "grid_gap": null,
            "grid_row": null,
            "grid_template_areas": null,
            "grid_template_columns": null,
            "grid_template_rows": null,
            "height": null,
            "justify_content": null,
            "justify_items": null,
            "left": null,
            "margin": null,
            "max_height": null,
            "max_width": null,
            "min_height": null,
            "min_width": null,
            "object_fit": null,
            "object_position": null,
            "order": null,
            "overflow": null,
            "overflow_x": null,
            "overflow_y": null,
            "padding": null,
            "right": null,
            "top": null,
            "visibility": null,
            "width": null
          }
        },
        "c0b0f1a2242640bb8df3eb90cd74fc77": {
          "model_module": "@jupyter-widgets/controls",
          "model_name": "ProgressStyleModel",
          "model_module_version": "1.5.0",
          "state": {
            "_model_module": "@jupyter-widgets/controls",
            "_model_module_version": "1.5.0",
            "_model_name": "ProgressStyleModel",
            "_view_count": null,
            "_view_module": "@jupyter-widgets/base",
            "_view_module_version": "1.2.0",
            "_view_name": "StyleView",
            "bar_color": null,
            "description_width": ""
          }
        },
        "076058cc18e1408784c04aec89b9bdd7": {
          "model_module": "@jupyter-widgets/base",
          "model_name": "LayoutModel",
          "model_module_version": "1.2.0",
          "state": {
            "_model_module": "@jupyter-widgets/base",
            "_model_module_version": "1.2.0",
            "_model_name": "LayoutModel",
            "_view_count": null,
            "_view_module": "@jupyter-widgets/base",
            "_view_module_version": "1.2.0",
            "_view_name": "LayoutView",
            "align_content": null,
            "align_items": null,
            "align_self": null,
            "border": null,
            "bottom": null,
            "display": null,
            "flex": null,
            "flex_flow": null,
            "grid_area": null,
            "grid_auto_columns": null,
            "grid_auto_flow": null,
            "grid_auto_rows": null,
            "grid_column": null,
            "grid_gap": null,
            "grid_row": null,
            "grid_template_areas": null,
            "grid_template_columns": null,
            "grid_template_rows": null,
            "height": null,
            "justify_content": null,
            "justify_items": null,
            "left": null,
            "margin": null,
            "max_height": null,
            "max_width": null,
            "min_height": null,
            "min_width": null,
            "object_fit": null,
            "object_position": null,
            "order": null,
            "overflow": null,
            "overflow_x": null,
            "overflow_y": null,
            "padding": null,
            "right": null,
            "top": null,
            "visibility": null,
            "width": null
          }
        },
        "ad5e87fcdabb41cb99eb3ce7cfab64a9": {
          "model_module": "@jupyter-widgets/controls",
          "model_name": "DescriptionStyleModel",
          "model_module_version": "1.5.0",
          "state": {
            "_model_module": "@jupyter-widgets/controls",
            "_model_module_version": "1.5.0",
            "_model_name": "DescriptionStyleModel",
            "_view_count": null,
            "_view_module": "@jupyter-widgets/base",
            "_view_module_version": "1.2.0",
            "_view_name": "StyleView",
            "description_width": ""
          }
        }
      }
    }
  },
  "cells": [
    {
      "cell_type": "markdown",
      "source": [
        "# Load Dataset"
      ],
      "metadata": {
        "id": "FkvBs2kkk0VE"
      }
    },
    {
      "cell_type": "code",
      "source": [
        "!pip install datasets --q"
      ],
      "metadata": {
        "id": "NCMWIuGakslU",
        "colab": {
          "base_uri": "https://localhost:8080/"
        },
        "outputId": "3d7f4d69-5df7-4825-a09a-5d79233b4358"
      },
      "execution_count": 1,
      "outputs": [
        {
          "output_type": "stream",
          "name": "stdout",
          "text": [
            "\u001b[2K     \u001b[90m━━━━━━━━━━━━━━━━━━━━━━━━━━━━━━━━━━━━━━━━\u001b[0m \u001b[32m547.8/547.8 kB\u001b[0m \u001b[31m5.5 MB/s\u001b[0m eta \u001b[36m0:00:00\u001b[0m\n",
            "\u001b[2K     \u001b[90m━━━━━━━━━━━━━━━━━━━━━━━━━━━━━━━━━━━━━━━━\u001b[0m \u001b[32m40.8/40.8 MB\u001b[0m \u001b[31m17.9 MB/s\u001b[0m eta \u001b[36m0:00:00\u001b[0m\n",
            "\u001b[2K     \u001b[90m━━━━━━━━━━━━━━━━━━━━━━━━━━━━━━━━━━━━━━━━\u001b[0m \u001b[32m116.3/116.3 kB\u001b[0m \u001b[31m10.6 MB/s\u001b[0m eta \u001b[36m0:00:00\u001b[0m\n",
            "\u001b[2K     \u001b[90m━━━━━━━━━━━━━━━━━━━━━━━━━━━━━━━━━━━━━━━━\u001b[0m \u001b[32m64.9/64.9 kB\u001b[0m \u001b[31m6.0 MB/s\u001b[0m eta \u001b[36m0:00:00\u001b[0m\n",
            "\u001b[2K     \u001b[90m━━━━━━━━━━━━━━━━━━━━━━━━━━━━━━━━━━━━━━━━\u001b[0m \u001b[32m194.1/194.1 kB\u001b[0m \u001b[31m4.5 MB/s\u001b[0m eta \u001b[36m0:00:00\u001b[0m\n",
            "\u001b[2K     \u001b[90m━━━━━━━━━━━━━━━━━━━━━━━━━━━━━━━━━━━━━━━━\u001b[0m \u001b[32m134.8/134.8 kB\u001b[0m \u001b[31m14.2 MB/s\u001b[0m eta \u001b[36m0:00:00\u001b[0m\n",
            "\u001b[?25h\u001b[31mERROR: pip's dependency resolver does not currently take into account all the packages that are installed. This behaviour is the source of the following dependency conflicts.\n",
            "cudf-cu12 24.4.1 requires pyarrow<15.0.0a0,>=14.0.1, but you have pyarrow 16.1.0 which is incompatible.\n",
            "google-colab 1.0.0 requires requests==2.31.0, but you have requests 2.32.3 which is incompatible.\n",
            "ibis-framework 8.0.0 requires pyarrow<16,>=2, but you have pyarrow 16.1.0 which is incompatible.\u001b[0m\u001b[31m\n",
            "\u001b[0m"
          ]
        }
      ]
    },
    {
      "cell_type": "code",
      "source": [
        "from datasets import load_dataset"
      ],
      "metadata": {
        "id": "Itel1B0OktLk"
      },
      "execution_count": 2,
      "outputs": []
    },
    {
      "cell_type": "code",
      "source": [
        "Dataset = load_dataset(\"Bahareh0281/liveness_images\")"
      ],
      "metadata": {
        "colab": {
          "base_uri": "https://localhost:8080/",
          "height": 185,
          "referenced_widgets": [
            "8f1af9ee62e44cc6af904d12480a42f2",
            "52b9e1612eb649338c7177d5226e1c23",
            "8314fa1c999d4d28887283cedf16c36e",
            "e98e8dd06ef7428289d45e492030e2ab",
            "cca39e102af14e6db258933759a53e71",
            "b8981626bf4041c88f19ae3d1a98efd7",
            "864539a61efe4015b4b2eca64ff242c1",
            "930256fb35b84a2fbae859d11ee4dce1",
            "6718113939f84d698e21ad85cc59891b",
            "67ff568b8a7648fbab54688f7f34ad7d",
            "af79e8931e544a82a2e12ebd215f7e77",
            "209f6b0782474092b92494ec70876b1d",
            "0f1d55199a36459ebff417854022a528",
            "346a3f77435b4faa844d72a768f48e6e",
            "38496baea3f84c109470a365551d5109",
            "f01adbc7686146ee9915f8f9ef7b6910",
            "628e6fc31b7e4f5b97fa9a8bcc85a870",
            "3f0de2688700409aaeb42ad966c68e62",
            "6f6551d5918f4654b0a55e42559fdffe",
            "c0b0f1a2242640bb8df3eb90cd74fc77",
            "076058cc18e1408784c04aec89b9bdd7",
            "ad5e87fcdabb41cb99eb3ce7cfab64a9"
          ]
        },
        "id": "6nlXJUhbkxKx",
        "outputId": "5ea35113-cf53-4812-f280-9b7df897ea57"
      },
      "execution_count": 3,
      "outputs": [
        {
          "output_type": "stream",
          "name": "stderr",
          "text": [
            "/usr/local/lib/python3.10/dist-packages/huggingface_hub/utils/_token.py:89: UserWarning: \n",
            "The secret `HF_TOKEN` does not exist in your Colab secrets.\n",
            "To authenticate with the Hugging Face Hub, create a token in your settings tab (https://huggingface.co/settings/tokens), set it as secret in your Google Colab and restart your session.\n",
            "You will be able to reuse this secret in all of your notebooks.\n",
            "Please note that authentication is recommended but still optional to access public models or datasets.\n",
            "  warnings.warn(\n"
          ]
        },
        {
          "output_type": "display_data",
          "data": {
            "text/plain": [
              "Downloading data:   0%|          | 0.00/137M [00:00<?, ?B/s]"
            ],
            "application/vnd.jupyter.widget-view+json": {
              "version_major": 2,
              "version_minor": 0,
              "model_id": "8f1af9ee62e44cc6af904d12480a42f2"
            }
          },
          "metadata": {}
        },
        {
          "output_type": "display_data",
          "data": {
            "text/plain": [
              "Generating train split:   0%|          | 0/6427 [00:00<?, ? examples/s]"
            ],
            "application/vnd.jupyter.widget-view+json": {
              "version_major": 2,
              "version_minor": 0,
              "model_id": "209f6b0782474092b92494ec70876b1d"
            }
          },
          "metadata": {}
        }
      ]
    },
    {
      "cell_type": "code",
      "source": [
        "Dataset['train'][7]"
      ],
      "metadata": {
        "colab": {
          "base_uri": "https://localhost:8080/"
        },
        "id": "W66msnCyk_tx",
        "outputId": "e97a7441-773e-4f7c-b414-0c488947528f"
      },
      "execution_count": 4,
      "outputs": [
        {
          "output_type": "execute_result",
          "data": {
            "text/plain": [
              "{'image': <PIL.JpegImagePlugin.JpegImageFile image mode=RGB size=256x256>,\n",
              " 'label': 0}"
            ]
          },
          "metadata": {},
          "execution_count": 4
        }
      ]
    },
    {
      "cell_type": "markdown",
      "source": [
        "# Import Necessary Libraries"
      ],
      "metadata": {
        "id": "lMhDO8JIixJ9"
      }
    },
    {
      "cell_type": "code",
      "execution_count": 5,
      "metadata": {
        "id": "URBYLMbzh7fL"
      },
      "outputs": [],
      "source": [
        "import cv2\n",
        "import numpy as np\n",
        "import os\n",
        "from skimage.feature import local_binary_pattern\n",
        "from skimage import measure\n",
        "from sklearn.ensemble import RandomForestClassifier\n",
        "from sklearn.model_selection import train_test_split\n",
        "from sklearn.metrics import classification_report, accuracy_score\n",
        "from PIL import Image\n",
        "from sklearn.model_selection import train_test_split\n",
        "from tensorflow.keras.utils import to_categorical"
      ]
    },
    {
      "cell_type": "markdown",
      "source": [
        "# Feature Extraction Functions"
      ],
      "metadata": {
        "id": "SNoHJHh8jESM"
      }
    },
    {
      "cell_type": "code",
      "source": [
        "radius = 3\n",
        "n_points = 8 * radius\n",
        "\n",
        "def compute_fourier_transform(image):\n",
        "    gray = cv2.cvtColor(image, cv2.COLOR_BGR2GRAY)\n",
        "    f = np.fft.fft2(gray)\n",
        "    fshift = np.fft.fftshift(f)\n",
        "    magnitude_spectrum = 20 * np.log(np.abs(fshift))\n",
        "    return magnitude_spectrum\n",
        "\n",
        "def compute_lbp(image):\n",
        "    gray = cv2.cvtColor(image, cv2.COLOR_BGR2GRAY)\n",
        "    lbp = local_binary_pattern(gray, n_points, radius, method=\"uniform\")\n",
        "    return lbp\n",
        "\n",
        "def compute_depth(image):\n",
        "    # به عنوان مثال از کانال آبی برای تخمین عمق استفاده می‌کنیم\n",
        "    depth = image[:, :, 2]\n",
        "    return depth\n",
        "\n",
        "def extract_statistical_features(image):\n",
        "    gray = cv2.cvtColor(image, cv2.COLOR_BGR2GRAY)\n",
        "    mean = np.mean(gray)\n",
        "    std_dev = np.std(gray)\n",
        "    skewness = np.mean((gray - mean) ** 3) / (std_dev ** 3)\n",
        "    kurtosis = np.mean((gray - mean) ** 4) / (std_dev ** 4)\n",
        "    entropy = measure.shannon_entropy(gray)\n",
        "    return mean, std_dev, skewness, kurtosis, entropy"
      ],
      "metadata": {
        "id": "dot437z0jBhz"
      },
      "execution_count": 6,
      "outputs": []
    },
    {
      "cell_type": "markdown",
      "source": [
        "# Preprocess Input Images"
      ],
      "metadata": {
        "id": "Jsan8-dljK-v"
      }
    },
    {
      "cell_type": "code",
      "source": [
        "len(Dataset['train'])"
      ],
      "metadata": {
        "colab": {
          "base_uri": "https://localhost:8080/"
        },
        "id": "vkl0BgNdtzNS",
        "outputId": "7ac187eb-2fce-45c9-e23b-1fe3511d0480"
      },
      "execution_count": 8,
      "outputs": [
        {
          "output_type": "execute_result",
          "data": {
            "text/plain": [
              "6427"
            ]
          },
          "metadata": {},
          "execution_count": 8
        }
      ]
    },
    {
      "cell_type": "code",
      "source": [
        "def process_images(dataset, num=0):\n",
        "    train_images_features = []\n",
        "    train_images_labels = []\n",
        "    if num == 0:\n",
        "        num = len(dataset['train'])\n",
        "\n",
        "    for i in range(num):\n",
        "        img = dataset['train'][i]['image']\n",
        "        if isinstance(img, Image.Image):\n",
        "            img = np.array(img)  # Convert PIL image to NumPy array\n",
        "\n",
        "            # Extract frequency features\n",
        "            magnitude_spectrum = compute_fourier_transform(img)\n",
        "            magnitude_spectrum_resized = cv2.resize(magnitude_spectrum, (64, 64))\n",
        "\n",
        "            # Extract LBP features\n",
        "            lbp = compute_lbp(img)\n",
        "            lbp_hist, _ = np.histogram(lbp, bins=np.arange(0, n_points + 3), range=(0, n_points + 2))\n",
        "            lbp_hist_normalized = lbp_hist / lbp_hist.sum()\n",
        "            lbp_hist_resized = cv2.resize(lbp_hist_normalized.reshape(-1, 1), (64, 64))\n",
        "\n",
        "            # Extract statistical features\n",
        "            mean, std_dev, skewness, kurtosis, entropy = extract_statistical_features(img)\n",
        "            statistical_features = np.array([mean, std_dev, skewness, kurtosis, entropy])\n",
        "            statistical_features_resized = cv2.resize(statistical_features.reshape(-1, 1), (64, 64))\n",
        "\n",
        "            # Combine features into a 3D array\n",
        "            combined_features = np.stack([\n",
        "                magnitude_spectrum_resized,\n",
        "                lbp_hist_resized,\n",
        "                statistical_features_resized\n",
        "            ], axis=-1)\n",
        "\n",
        "            train_images_features.append(combined_features)\n",
        "            train_images_labels.append(dataset['train'][i]['label'])\n",
        "\n",
        "    return np.array(train_images_features), np.array(train_images_labels)"
      ],
      "metadata": {
        "id": "z87X257BthVT"
      },
      "execution_count": 9,
      "outputs": []
    },
    {
      "cell_type": "code",
      "source": [
        "train_images_features,  train_images_labels = process_images(Dataset, 3000)"
      ],
      "metadata": {
        "colab": {
          "base_uri": "https://localhost:8080/"
        },
        "id": "Up51-JBOi6K8",
        "outputId": "d1f50c36-ca5e-492c-91d1-8adb3c8f3c11"
      },
      "execution_count": 10,
      "outputs": [
        {
          "output_type": "stream",
          "name": "stderr",
          "text": [
            "<ipython-input-6-11f85dd407e5>:8: RuntimeWarning: divide by zero encountered in log\n",
            "  magnitude_spectrum = 20 * np.log(np.abs(fshift))\n"
          ]
        }
      ]
    },
    {
      "cell_type": "code",
      "source": [
        "len(train_images_features)"
      ],
      "metadata": {
        "colab": {
          "base_uri": "https://localhost:8080/"
        },
        "id": "esqMUsDfs1Vz",
        "outputId": "3b2f7b29-5191-4470-f7eb-8ecb31603e58"
      },
      "execution_count": 11,
      "outputs": [
        {
          "output_type": "execute_result",
          "data": {
            "text/plain": [
              "3000"
            ]
          },
          "metadata": {},
          "execution_count": 11
        }
      ]
    },
    {
      "cell_type": "code",
      "source": [
        "train_images_features.shape"
      ],
      "metadata": {
        "colab": {
          "base_uri": "https://localhost:8080/"
        },
        "id": "0C3fYXFByuPK",
        "outputId": "b37115f5-a972-402b-914d-ae956943b421"
      },
      "execution_count": 12,
      "outputs": [
        {
          "output_type": "execute_result",
          "data": {
            "text/plain": [
              "(3000, 64, 64, 3)"
            ]
          },
          "metadata": {},
          "execution_count": 12
        }
      ]
    },
    {
      "cell_type": "code",
      "source": [
        "train_images_features[1]"
      ],
      "metadata": {
        "colab": {
          "base_uri": "https://localhost:8080/"
        },
        "id": "oVbEpCHpy196",
        "outputId": "83a8d72b-6ca3-4c08-eecd-da69fd99d300"
      },
      "execution_count": 13,
      "outputs": [
        {
          "output_type": "execute_result",
          "data": {
            "text/plain": [
              "array([[[9.98781304e+01, 1.70135498e-02, 1.23999863e+02],\n",
              "        [1.03112881e+02, 1.70135498e-02, 1.23999863e+02],\n",
              "        [1.00401371e+02, 1.70135498e-02, 1.23999863e+02],\n",
              "        ...,\n",
              "        [8.08424041e+01, 1.70135498e-02, 1.23999863e+02],\n",
              "        [8.49438029e+01, 1.70135498e-02, 1.23999863e+02],\n",
              "        [9.55299601e+01, 1.70135498e-02, 1.23999863e+02]],\n",
              "\n",
              "       [[7.85450649e+01, 1.65896416e-02, 1.23999863e+02],\n",
              "        [8.88281131e+01, 1.65896416e-02, 1.23999863e+02],\n",
              "        [8.47440767e+01, 1.65896416e-02, 1.23999863e+02],\n",
              "        ...,\n",
              "        [9.16315104e+01, 1.65896416e-02, 1.23999863e+02],\n",
              "        [9.06426121e+01, 1.65896416e-02, 1.23999863e+02],\n",
              "        [8.25498088e+01, 1.65896416e-02, 1.23999863e+02]],\n",
              "\n",
              "       [[9.15188864e+01, 1.50151253e-02, 1.23999863e+02],\n",
              "        [9.45883978e+01, 1.50151253e-02, 1.23999863e+02],\n",
              "        [9.23813503e+01, 1.50151253e-02, 1.23999863e+02],\n",
              "        ...,\n",
              "        [9.37271837e+01, 1.50151253e-02, 1.23999863e+02],\n",
              "        [9.23618173e+01, 1.50151253e-02, 1.23999863e+02],\n",
              "        [9.04500895e+01, 1.50151253e-02, 1.23999863e+02]],\n",
              "\n",
              "       ...,\n",
              "\n",
              "       [[8.18726194e+01, 1.72089338e-01, 6.84012221e+00],\n",
              "        [9.39470200e+01, 1.72089338e-01, 6.84012221e+00],\n",
              "        [8.42057294e+01, 1.72089338e-01, 6.84012221e+00],\n",
              "        ...,\n",
              "        [9.14947383e+01, 1.72089338e-01, 6.84012221e+00],\n",
              "        [7.99644254e+01, 1.72089338e-01, 6.84012221e+00],\n",
              "        [9.64360706e+01, 1.72089338e-01, 6.84012221e+00]],\n",
              "\n",
              "       [[7.67963766e+01, 2.15115786e-01, 6.84012221e+00],\n",
              "        [8.99967501e+01, 2.15115786e-01, 6.84012221e+00],\n",
              "        [8.08708981e+01, 2.15115786e-01, 6.84012221e+00],\n",
              "        ...,\n",
              "        [8.95057065e+01, 2.15115786e-01, 6.84012221e+00],\n",
              "        [8.59257870e+01, 2.15115786e-01, 6.84012221e+00],\n",
              "        [7.89247608e+01, 2.15115786e-01, 6.84012221e+00]],\n",
              "\n",
              "       [[9.62452804e+01, 2.26699829e-01, 6.84012221e+00],\n",
              "        [8.69844970e+01, 2.26699829e-01, 6.84012221e+00],\n",
              "        [9.12226090e+01, 2.26699829e-01, 6.84012221e+00],\n",
              "        ...,\n",
              "        [9.74845177e+01, 2.26699829e-01, 6.84012221e+00],\n",
              "        [9.76303721e+01, 2.26699829e-01, 6.84012221e+00],\n",
              "        [9.74363104e+01, 2.26699829e-01, 6.84012221e+00]]])"
            ]
          },
          "metadata": {},
          "execution_count": 13
        }
      ]
    },
    {
      "cell_type": "code",
      "source": [
        "len(train_images_features[1])"
      ],
      "metadata": {
        "colab": {
          "base_uri": "https://localhost:8080/"
        },
        "id": "SBECxZD6zG0n",
        "outputId": "e5a8aaf2-d47e-4433-c60a-e4fbd42911b3"
      },
      "execution_count": 14,
      "outputs": [
        {
          "output_type": "execute_result",
          "data": {
            "text/plain": [
              "64"
            ]
          },
          "metadata": {},
          "execution_count": 14
        }
      ]
    },
    {
      "cell_type": "code",
      "source": [
        "len(train_images_features[0])"
      ],
      "metadata": {
        "colab": {
          "base_uri": "https://localhost:8080/"
        },
        "id": "u-vc9TiazIbY",
        "outputId": "d0b17047-3118-49d4-b847-c5a5448bfc37"
      },
      "execution_count": 15,
      "outputs": [
        {
          "output_type": "execute_result",
          "data": {
            "text/plain": [
              "64"
            ]
          },
          "metadata": {},
          "execution_count": 15
        }
      ]
    },
    {
      "cell_type": "markdown",
      "source": [
        "# Split training dataset and prepare it for train process"
      ],
      "metadata": {
        "id": "5VY-vRmm7N6X"
      }
    },
    {
      "cell_type": "code",
      "source": [
        "# Convert depth features to a numpy array\n",
        "features = np.array(train_images_features)\n",
        "labels = np.array(train_images_labels)\n",
        "# Split the data into training and testing sets\n",
        "X_train, X_test, y_train, y_test = train_test_split(features, labels, test_size=0.2, random_state=42)\n",
        "\n",
        "# One-hot encode the labels\n",
        "y_train = to_categorical(y_train, num_classes=2)\n",
        "y_test = to_categorical(y_test, num_classes=2)\n"
      ],
      "metadata": {
        "id": "aJZ792Fe0JLs"
      },
      "execution_count": 16,
      "outputs": []
    },
    {
      "cell_type": "markdown",
      "source": [
        "# Create CNN Model and Train it"
      ],
      "metadata": {
        "id": "oBE5VM3g7XFY"
      }
    },
    {
      "cell_type": "code",
      "source": [
        "from tensorflow.keras.models import Sequential\n",
        "from tensorflow.keras.layers import Conv2D, MaxPooling2D, Flatten, Dense, Dropout\n",
        "from tensorflow.keras.optimizers import Adam\n",
        "\n",
        "# Build the CNN model\n",
        "model = Sequential([\n",
        "    Conv2D(32, (3, 3), activation='relu', input_shape=(64, 64, 3)),\n",
        "    MaxPooling2D((2, 2)),\n",
        "    Conv2D(64, (3, 3), activation='relu'),\n",
        "    MaxPooling2D((2, 2)),\n",
        "    Flatten(),\n",
        "    Dense(128, activation='relu'),\n",
        "    Dropout(0.5),\n",
        "    Dense(2, activation='softmax')\n",
        "])\n",
        "\n",
        "# Compile the model\n",
        "model.compile(optimizer=Adam(), loss='categorical_crossentropy', metrics=['accuracy'])\n",
        "\n",
        "# Train the model\n",
        "history = model.fit(X_train, y_train, epochs=20, batch_size=32, validation_split=0.2)\n"
      ],
      "metadata": {
        "colab": {
          "base_uri": "https://localhost:8080/"
        },
        "id": "x7x7f9i33lS4",
        "outputId": "be9126b7-b1ee-474b-b80f-033eefdae2dd"
      },
      "execution_count": 17,
      "outputs": [
        {
          "output_type": "stream",
          "name": "stdout",
          "text": [
            "Epoch 1/20\n",
            "60/60 [==============================] - 6s 11ms/step - loss: 5.3033 - accuracy: 0.7625 - val_loss: 0.4418 - val_accuracy: 0.8271\n",
            "Epoch 2/20\n",
            "60/60 [==============================] - 0s 7ms/step - loss: 0.4996 - accuracy: 0.7948 - val_loss: 0.4256 - val_accuracy: 0.8271\n",
            "Epoch 3/20\n",
            "60/60 [==============================] - 0s 6ms/step - loss: 0.4846 - accuracy: 0.7948 - val_loss: 0.4225 - val_accuracy: 0.8271\n",
            "Epoch 4/20\n",
            "60/60 [==============================] - 0s 7ms/step - loss: 0.5005 - accuracy: 0.7948 - val_loss: 0.4288 - val_accuracy: 0.8271\n",
            "Epoch 5/20\n",
            "60/60 [==============================] - 0s 6ms/step - loss: 0.4966 - accuracy: 0.7943 - val_loss: 0.4171 - val_accuracy: 0.8271\n",
            "Epoch 6/20\n",
            "60/60 [==============================] - 0s 6ms/step - loss: 0.4799 - accuracy: 0.7948 - val_loss: 0.4032 - val_accuracy: 0.8271\n",
            "Epoch 7/20\n",
            "60/60 [==============================] - 0s 6ms/step - loss: 0.4761 - accuracy: 0.7948 - val_loss: 0.4031 - val_accuracy: 0.8271\n",
            "Epoch 8/20\n",
            "60/60 [==============================] - 0s 6ms/step - loss: 0.4741 - accuracy: 0.7948 - val_loss: 0.3979 - val_accuracy: 0.8271\n",
            "Epoch 9/20\n",
            "60/60 [==============================] - 0s 6ms/step - loss: 0.4722 - accuracy: 0.7948 - val_loss: 0.4211 - val_accuracy: 0.8271\n",
            "Epoch 10/20\n",
            "60/60 [==============================] - 0s 6ms/step - loss: 0.4746 - accuracy: 0.7948 - val_loss: 0.4284 - val_accuracy: 0.8271\n",
            "Epoch 11/20\n",
            "60/60 [==============================] - 0s 6ms/step - loss: 0.4706 - accuracy: 0.7948 - val_loss: 0.4082 - val_accuracy: 0.8271\n",
            "Epoch 12/20\n",
            "60/60 [==============================] - 0s 6ms/step - loss: 0.4665 - accuracy: 0.7948 - val_loss: 0.4088 - val_accuracy: 0.8271\n",
            "Epoch 13/20\n",
            "60/60 [==============================] - 0s 6ms/step - loss: 0.4634 - accuracy: 0.7948 - val_loss: 0.3966 - val_accuracy: 0.8271\n",
            "Epoch 14/20\n",
            "60/60 [==============================] - 0s 6ms/step - loss: 0.4478 - accuracy: 0.7948 - val_loss: 0.3976 - val_accuracy: 0.8271\n",
            "Epoch 15/20\n",
            "60/60 [==============================] - 0s 8ms/step - loss: 0.4706 - accuracy: 0.7948 - val_loss: 0.4184 - val_accuracy: 0.8271\n",
            "Epoch 16/20\n",
            "60/60 [==============================] - 0s 8ms/step - loss: 0.4713 - accuracy: 0.7948 - val_loss: 0.3949 - val_accuracy: 0.8271\n",
            "Epoch 17/20\n",
            "60/60 [==============================] - 0s 8ms/step - loss: 0.4569 - accuracy: 0.7948 - val_loss: 0.3986 - val_accuracy: 0.8271\n",
            "Epoch 18/20\n",
            "60/60 [==============================] - 0s 8ms/step - loss: 0.4527 - accuracy: 0.7948 - val_loss: 0.3903 - val_accuracy: 0.8271\n",
            "Epoch 19/20\n",
            "60/60 [==============================] - 1s 8ms/step - loss: 0.4506 - accuracy: 0.7948 - val_loss: 0.4017 - val_accuracy: 0.8271\n",
            "Epoch 20/20\n",
            "60/60 [==============================] - 0s 8ms/step - loss: 0.4432 - accuracy: 0.7948 - val_loss: 0.3811 - val_accuracy: 0.8271\n"
          ]
        }
      ]
    },
    {
      "cell_type": "markdown",
      "source": [
        "# Evaluate on dataset tests"
      ],
      "metadata": {
        "id": "z-VAc5m57ei2"
      }
    },
    {
      "cell_type": "code",
      "source": [
        "# Evaluate the model\n",
        "test_loss, test_accuracy = model.evaluate(X_test, y_test)\n",
        "print(f'Test Accuracy: {test_accuracy * 100:.2f}%')\n"
      ],
      "metadata": {
        "colab": {
          "base_uri": "https://localhost:8080/"
        },
        "id": "7DCO0A3o4IV2",
        "outputId": "6459d7c4-f2ad-4408-e063-1e136b017cc9"
      },
      "execution_count": 18,
      "outputs": [
        {
          "output_type": "stream",
          "name": "stdout",
          "text": [
            "19/19 [==============================] - 0s 10ms/step - loss: 0.4059 - accuracy: 0.8100\n",
            "Test Accuracy: 81.00%\n"
          ]
        }
      ]
    },
    {
      "cell_type": "markdown",
      "source": [
        "# Load test videos"
      ],
      "metadata": {
        "id": "tfF_mfOt7ksY"
      }
    },
    {
      "cell_type": "code",
      "source": [
        "import gdown\n",
        "\n",
        "file_id = '1a5R5h05hCyw9PzIBhSjy2jLL3dSFy2xA'\n",
        "destination = '/content/dataset.zip'  # Path where the file will be saved\n",
        "gdown.download(f'https://drive.google.com/uc?id={file_id}', destination, quiet=False)\n",
        "\n",
        "import zipfile\n",
        "\n",
        "with zipfile.ZipFile(destination, 'r') as zip_ref:\n",
        "    zip_ref.extractall('/content/dataset')"
      ],
      "metadata": {
        "colab": {
          "base_uri": "https://localhost:8080/"
        },
        "id": "HPgJ2aLO5MkB",
        "outputId": "607147b3-c76b-4299-985c-964ba913e705"
      },
      "execution_count": 19,
      "outputs": [
        {
          "output_type": "stream",
          "name": "stderr",
          "text": [
            "Downloading...\n",
            "From (original): https://drive.google.com/uc?id=1a5R5h05hCyw9PzIBhSjy2jLL3dSFy2xA\n",
            "From (redirected): https://drive.google.com/uc?id=1a5R5h05hCyw9PzIBhSjy2jLL3dSFy2xA&confirm=t&uuid=d2b01acc-070c-4655-9258-e3568871f693\n",
            "To: /content/dataset.zip\n",
            "100%|██████████| 377M/377M [00:06<00:00, 62.4MB/s]\n"
          ]
        }
      ]
    },
    {
      "cell_type": "markdown",
      "source": [
        "# Generate random frames from each video"
      ],
      "metadata": {
        "id": "Zy4f0V9B7osL"
      }
    },
    {
      "cell_type": "code",
      "source": [
        "import random\n",
        "\n",
        "\n",
        "def extract_frames(video_path, save_path, label, test):\n",
        "    # Open the video file\n",
        "    video = cv2.VideoCapture(video_path)\n",
        "    frame_count = int(video.get(cv2.CAP_PROP_FRAME_COUNT))\n",
        "\n",
        "    # Select one random frame\n",
        "    random_frame = random.randint(0, frame_count - 1)\n",
        "\n",
        "    # Set the position of the video to the selected frame\n",
        "    video.set(cv2.CAP_PROP_POS_FRAMES, random_frame)\n",
        "    success, frame = video.read()\n",
        "\n",
        "    # If the frame was successfully read, save it\n",
        "    if success:\n",
        "        frame_path = os.path.join(save_path, f\"{label}_{random_frame}.jpg\")\n",
        "        cv2.imwrite(frame_path, frame)\n",
        "\n",
        "        # Convert the frame to a PIL image\n",
        "        pil_image = Image.open(frame_path)\n",
        "\n",
        "        # Save the image and label to the dictionary\n",
        "        test.append({'image': pil_image, 'label': label})\n",
        "\n",
        "    # Release the video file\n",
        "    video.release()"
      ],
      "metadata": {
        "id": "rgdA0sFM4qgL"
      },
      "execution_count": 20,
      "outputs": []
    },
    {
      "cell_type": "code",
      "source": [
        "import cv2\n",
        "\n",
        "fake_test_videos_path = '/content/dataset/fake/test'\n",
        "real_test_videos_path = '/content/dataset/real/test'\n",
        "\n",
        "save_frames_path = '/content/extracted_frames1/test'\n",
        "# Create the directory if it doesn't exist\n",
        "if not os.path.exists(save_frames_path):\n",
        "    os.makedirs(save_frames_path)\n",
        "\n",
        "# Create a list to hold the dictionary entries\n",
        "test = []\n",
        "\n",
        "# Iterate over fake videos and extract frames\n",
        "for fake_video_file in os.listdir(fake_test_videos_path):\n",
        "    fake_video_path = os.path.join(fake_test_videos_path, fake_video_file)\n",
        "    extract_frames(fake_video_path, save_frames_path, 0, test)\n",
        "\n",
        "# Iterate over real videos and extract frames\n",
        "for real_video_file in os.listdir(real_test_videos_path):\n",
        "    real_video_path = os.path.join(real_test_videos_path, real_video_file)\n",
        "    extract_frames(real_video_path, save_frames_path, 1, test)"
      ],
      "metadata": {
        "id": "_bRG9QQu4rWX"
      },
      "execution_count": 28,
      "outputs": []
    },
    {
      "cell_type": "markdown",
      "source": [
        "# Extract features from each frame"
      ],
      "metadata": {
        "id": "l-Y77Zij704f"
      }
    },
    {
      "cell_type": "code",
      "source": [
        "def process_images_from_directory(directory):\n",
        "    train_images_features = []\n",
        "    train_images_labels = []\n",
        "\n",
        "    image_files = [f for f in os.listdir(directory) if f.endswith(('.png', '.jpg', '.jpeg'))]\n",
        "    for i, file_name in enumerate(image_files):\n",
        "        file_path = os.path.join(directory, file_name)\n",
        "        try:\n",
        "            img = Image.open(file_path)\n",
        "            img = np.array(img)  # Convert PIL image to NumPy array\n",
        "\n",
        "            # Extract frequency features\n",
        "            magnitude_spectrum = compute_fourier_transform(img)\n",
        "            magnitude_spectrum_resized = cv2.resize(magnitude_spectrum, (64, 64))\n",
        "\n",
        "            # Extract LBP features\n",
        "            lbp = compute_lbp(img)\n",
        "            lbp_hist, _ = np.histogram(lbp, bins=np.arange(0, n_points + 3), range=(0, n_points + 2))\n",
        "            lbp_hist_normalized = lbp_hist / lbp_hist.sum()\n",
        "            lbp_hist_resized = cv2.resize(lbp_hist_normalized.reshape(-1, 1), (64, 64))\n",
        "\n",
        "            # Extract statistical features\n",
        "            mean, std_dev, skewness, kurtosis, entropy = extract_statistical_features(img)\n",
        "            statistical_features = np.array([mean, std_dev, skewness, kurtosis, entropy])\n",
        "            statistical_features_resized = cv2.resize(statistical_features.reshape(-1, 1), (64, 64))\n",
        "\n",
        "            # Combine features into a 3D array\n",
        "            combined_features = np.stack([\n",
        "                magnitude_spectrum_resized,\n",
        "                lbp_hist_resized,\n",
        "                statistical_features_resized\n",
        "            ], axis=-1)\n",
        "\n",
        "            train_images_features.append(combined_features)\n",
        "            train_images_labels.append(file_name.split('/')[-1].split('_')[0])\n",
        "\n",
        "        except Exception as e:\n",
        "            print(f\"Error processing {file_path}: {e}\")\n",
        "\n",
        "    return np.array(train_images_features), np.array(train_images_labels)\n"
      ],
      "metadata": {
        "id": "zgwrJgz74uKi"
      },
      "execution_count": 41,
      "outputs": []
    },
    {
      "cell_type": "markdown",
      "source": [
        "# Extract features from each frame and convert labels to one-hot form"
      ],
      "metadata": {
        "id": "rqtnp6tY77S4"
      }
    },
    {
      "cell_type": "code",
      "source": [
        "directory = '/content/extracted_frames1/test'\n",
        "test_frames_features, test_frames_labels = process_images_from_directory(directory)\n",
        "\n",
        "test_frames_labels = to_categorical(test_frames_labels, num_classes=2)"
      ],
      "metadata": {
        "id": "RkPimjUo6GW9"
      },
      "execution_count": 42,
      "outputs": []
    },
    {
      "cell_type": "code",
      "source": [
        "test_frames_features.shape"
      ],
      "metadata": {
        "colab": {
          "base_uri": "https://localhost:8080/"
        },
        "id": "wnJI1FEI91gH",
        "outputId": "8227e007-8e25-44f6-d201-0a02e6b4f549"
      },
      "execution_count": 43,
      "outputs": [
        {
          "output_type": "execute_result",
          "data": {
            "text/plain": [
              "(30, 64, 64, 3)"
            ]
          },
          "metadata": {},
          "execution_count": 43
        }
      ]
    },
    {
      "cell_type": "code",
      "source": [
        "test_frames_labels.shape"
      ],
      "metadata": {
        "colab": {
          "base_uri": "https://localhost:8080/"
        },
        "id": "1UPtdpMf-G3m",
        "outputId": "448a7a4c-c778-4397-ffac-8a95ee3d7cd7"
      },
      "execution_count": 44,
      "outputs": [
        {
          "output_type": "execute_result",
          "data": {
            "text/plain": [
              "(30, 2)"
            ]
          },
          "metadata": {},
          "execution_count": 44
        }
      ]
    },
    {
      "cell_type": "markdown",
      "source": [
        "# Evaluate model on test set"
      ],
      "metadata": {
        "id": "z7UunJdx8FEd"
      }
    },
    {
      "cell_type": "code",
      "source": [
        "test_loss, test_accuracy = model.evaluate(test_frames_features, test_frames_labels)\n",
        "print(f'Test Accuracy: {test_accuracy * 100:.2f}%')"
      ],
      "metadata": {
        "colab": {
          "base_uri": "https://localhost:8080/"
        },
        "id": "LlfFZ28Q6qbg",
        "outputId": "a83146d9-26cd-4086-af05-437e90e5b4a3"
      },
      "execution_count": 45,
      "outputs": [
        {
          "output_type": "stream",
          "name": "stdout",
          "text": [
            "1/1 [==============================] - 0s 27ms/step - loss: 0.8184 - accuracy: 0.6333\n",
            "Test Accuracy: 63.33%\n"
          ]
        }
      ]
    },
    {
      "cell_type": "code",
      "source": [
        "# Make predictions\n",
        "\n",
        "y_pred_proba = model.predict(test_frames_features)\n",
        "predictions_for_frames = []\n",
        "# Output the prediction vector for each test image\n",
        "for idx, prediction_vector in enumerate(y_pred_proba):\n",
        "    print(f\"Prediction vector for test image {idx+1}: {prediction_vector}\")\n",
        "    predictions_for_frames.append((idx, prediction_vector))\n"
      ],
      "metadata": {
        "colab": {
          "base_uri": "https://localhost:8080/"
        },
        "id": "ivqBLZjo8w3S",
        "outputId": "612272b7-9a66-4ecc-ca33-534da602b6e9"
      },
      "execution_count": 46,
      "outputs": [
        {
          "output_type": "stream",
          "name": "stdout",
          "text": [
            "1/1 [==============================] - 0s 17ms/step\n",
            "Prediction vector for test image 1: [0.6722242  0.32777578]\n",
            "Prediction vector for test image 2: [0.8758591  0.12414093]\n",
            "Prediction vector for test image 3: [0.878938   0.12106201]\n",
            "Prediction vector for test image 4: [0.88513684 0.11486324]\n",
            "Prediction vector for test image 5: [0.8675622  0.13243778]\n",
            "Prediction vector for test image 6: [0.8025186  0.19748147]\n",
            "Prediction vector for test image 7: [0.82536393 0.17463605]\n",
            "Prediction vector for test image 8: [0.8269381  0.17306189]\n",
            "Prediction vector for test image 9: [0.69694704 0.30305296]\n",
            "Prediction vector for test image 10: [0.8610274  0.13897252]\n",
            "Prediction vector for test image 11: [0.67486894 0.3251311 ]\n",
            "Prediction vector for test image 12: [0.9287194  0.07128052]\n",
            "Prediction vector for test image 13: [0.8809576  0.11904239]\n",
            "Prediction vector for test image 14: [0.66332954 0.33667046]\n",
            "Prediction vector for test image 15: [0.7492579  0.25074205]\n",
            "Prediction vector for test image 16: [0.7252749  0.27472505]\n",
            "Prediction vector for test image 17: [0.7953219 0.2046782]\n",
            "Prediction vector for test image 18: [0.8874971  0.11250282]\n",
            "Prediction vector for test image 19: [0.88216597 0.11783401]\n",
            "Prediction vector for test image 20: [0.6267753 0.3732247]\n",
            "Prediction vector for test image 21: [0.76469904 0.23530096]\n",
            "Prediction vector for test image 22: [0.8156995  0.18430045]\n",
            "Prediction vector for test image 23: [0.86980957 0.13019037]\n",
            "Prediction vector for test image 24: [0.698597 0.301403]\n",
            "Prediction vector for test image 25: [0.7178198  0.28218022]\n",
            "Prediction vector for test image 26: [0.6442345  0.35576552]\n",
            "Prediction vector for test image 27: [0.6450015  0.35499853]\n",
            "Prediction vector for test image 28: [0.6214546 0.3785454]\n",
            "Prediction vector for test image 29: [0.79269177 0.2073083 ]\n",
            "Prediction vector for test image 30: [0.9068302  0.09316979]\n"
          ]
        }
      ]
    }
  ]
}